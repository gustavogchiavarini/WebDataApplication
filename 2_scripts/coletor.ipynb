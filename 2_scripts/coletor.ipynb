{
 "cells": [
  {
   "cell_type": "code",
   "execution_count": null,
   "metadata": {},
   "outputs": [],
   "source": [
    "import sqlalchemy \n",
    "import selenium \n",
    "import pandas as pd\n",
    "from selenium import webdriver\n",
    "from selenium.webdriver.common.by import By\n",
    "from selenium.webdriver.support.ui import WebDriverWait\n",
    "from selenium.webdriver.support import expected_conditions as EC\n",
    "from sqlalchemy import create_engine, Column, Integer, String, Sequence\n",
    "from sqlalchemy.ext.declarative import declarative_base\n",
    "from sqlalchemy.orm import sessionmaker\n",
    "from sqlalchemy import create_engine \n"
   ]
  },
  {
   "cell_type": "code",
   "execution_count": null,
   "metadata": {},
   "outputs": [],
   "source": [
    "!pip install sqlalchemy\n"
   ]
  },
  {
   "cell_type": "code",
   "execution_count": null,
   "metadata": {},
   "outputs": [],
   "source": [
    "navegador = webdriver.Chrome()"
   ]
  },
  {
   "cell_type": "code",
   "execution_count": null,
   "metadata": {},
   "outputs": [],
   "source": [
    "navegador.get('https://www.magazineluiza.com.br/casa-inteligente/l/ci/')"
   ]
  },
  {
   "cell_type": "code",
   "execution_count": null,
   "metadata": {},
   "outputs": [],
   "source": [
    "navegador.maximize_window()"
   ]
  },
  {
   "cell_type": "code",
   "execution_count": null,
   "metadata": {},
   "outputs": [],
   "source": [
    "nome ='//*[@id=\"__next\"]/div/main/section[4]/div[3]/div/ul/li[1]/a/div[3]/h2' \n"
   ]
  },
  {
   "cell_type": "code",
   "execution_count": null,
   "metadata": {},
   "outputs": [],
   "source": [
    "navegador.find_element(By.XPATH, nome).text"
   ]
  },
  {
   "cell_type": "code",
   "execution_count": null,
   "metadata": {},
   "outputs": [],
   "source": [
    "preco = '//*[@id=\"__next\"]/div/main/section[4]/div[3]/div/ul/li[1]/a/div[3]/div[3]/div/p[1]'\n",
    "navegador.find_element(By.XPATH, preco).text\n"
   ]
  },
  {
   "cell_type": "code",
   "execution_count": null,
   "metadata": {},
   "outputs": [],
   "source": [
    "nome2 = '//*[@id=\"__next\"]/div/main/section[4]/div[3]/div/ul/li[2]/a/div[3]/h2'\n",
    "navegador.find_element(By.XPATH, nome2).text"
   ]
  },
  {
   "cell_type": "code",
   "execution_count": null,
   "metadata": {},
   "outputs": [],
   "source": [
    "preco2 = '//*[@id=\"__next\"]/div/main/section[4]/div[3]/div/ul/li[2]/a/div[3]/div[3]/div/div/p'\n",
    "\n",
    "navegador.find_element(By.XPATH, preco2).text"
   ]
  },
  {
   "cell_type": "code",
   "execution_count": null,
   "metadata": {},
   "outputs": [],
   "source": [
    "\n"
   ]
  },
  {
   "cell_type": "code",
   "execution_count": null,
   "metadata": {},
   "outputs": [],
   "source": [
    "nome3 = '//*[@id=\"__next\"]/div/main/section[4]/div[3]/div/ul/li[3]/a/div[3]/h2'\n",
    "navegador.find_element(By.XPATH, nome3).text"
   ]
  },
  {
   "cell_type": "code",
   "execution_count": null,
   "metadata": {},
   "outputs": [],
   "source": [
    "preco3= '//*[@id=\"__next\"]/div/main/section[4]/div[3]/div/ul/li[3]/a/div[3]/div[3]/div/div/p'\n",
    "navegador.find_element(By.XPATH, preco3).text"
   ]
  },
  {
   "cell_type": "code",
   "execution_count": null,
   "metadata": {},
   "outputs": [],
   "source": [
    "lista_produtos = [] # lista vazia\n",
    "for produto in range(1,30):\n",
    "    try:\n",
    "        print(navegador.find_element(By.XPATH, f'//*[@id=\"__next\"]/div/main/section[4]/div[3]/div/ul/li[{produto}]/a/div[3]/h2').text)\n",
    "        #//*[@id=\"__next\"]/div/main/section[4]/div[4]/div/ul/li[{produto}]/a/div[3]/h2\n",
    "        dado_produto = navegador.find_element(By.XPATH, f'//*[@id=\"__next\"]/div/main/section[4]/div[3]/div/ul/li[{produto}]/a/div[3]/h2').text\n",
    "        lista_produtos.append(dado_produto)\n",
    "    except:\n",
    "        pass"
   ]
  },
  {
   "cell_type": "code",
   "execution_count": null,
   "metadata": {},
   "outputs": [],
   "source": [
    "lista_precos = [] # lista vazia\n",
    "for preco in range(1,30):\n",
    "    try:\n",
    "        print(navegador.find_element(By.XPATH, f'//*[@id=\"__next\"]/div/main/section[4]/div[3]/div/ul/li[{preco}]/a/div[3]/div[3]/div/p[1]').text)\n",
    "        #//*[@id=\"__next\"]/div/main/section[4]/div[4]/div/ul/li[{preco}]/a/div[3]/div[3]/div/div/p\n",
    "        dado_preco = navegador.find_element(By.XPATH, f'//*[@id=\"__next\"]/div/main/section[4]/div[3]/div/ul/li[{preco}]/a/div[3]/div[3]/div/p[1]').text\n",
    "        lista_precos.append(dado_preco)\n",
    "    except:\n",
    "        pass"
   ]
  },
  {
   "cell_type": "code",
   "execution_count": null,
   "metadata": {},
   "outputs": [],
   "source": [
    "lista_produtos"
   ]
  },
  {
   "cell_type": "code",
   "execution_count": null,
   "metadata": {},
   "outputs": [],
   "source": [
    "lista_precos"
   ]
  },
  {
   "cell_type": "code",
   "execution_count": null,
   "metadata": {},
   "outputs": [],
   "source": [
    "import pandas as pd\n",
    "tabela1 = pd.DataFrame(lista_produtos, columns=['produto'])\n",
    "tabela1"
   ]
  },
  {
   "cell_type": "code",
   "execution_count": null,
   "metadata": {},
   "outputs": [],
   "source": [
    "tabela2 = pd.DataFrame(lista_precos, columns=['precos'])\n",
    "tabela2"
   ]
  },
  {
   "cell_type": "code",
   "execution_count": null,
   "metadata": {},
   "outputs": [],
   "source": [
    "df = pd.concat([tabela1, tabela2], axis=1)"
   ]
  },
  {
   "cell_type": "code",
   "execution_count": null,
   "metadata": {},
   "outputs": [],
   "source": [
    "df['preco2']=df.precos.str.replace('R$','').str.replace('sem juros','').str.replace('em','').str.replace('s','').str.replace('2x','').str.replace('4x','').str.replace('de','').str.replace('57,45','').str.replace('52,50','').str.replace(',','.').str.replace('NaN','123.45').str.split(' ').str.get(1).str.replace('NaN','123.45')\n",
    "\n",
    "# Verificar se a última linha contém NaN em 'precos' e removê-la\n",
    "if pd.isna(df.iloc[-1]['precos']):\n",
    "    df = df.iloc[:-1]\n",
    "\n",
    "# Exibir o DataFrame resultante\n",
    "df\n",
    "\n",
    "\n",
    "\n",
    "\n",
    "#df['preco2']=df.precos.str.replace('sem juros', ' ').str.replace(' ,', ',').str.replace(', ', ',').str.replace('R$ ', '').str.split(' ').str.get(0).str.replace(',',';').str.replace('.','').str.replace(';', '.')"
   ]
  },
  {
   "cell_type": "code",
   "execution_count": null,
   "metadata": {},
   "outputs": [],
   "source": [
    "df\n",
    "\n",
    "\n"
   ]
  },
  {
   "cell_type": "code",
   "execution_count": null,
   "metadata": {},
   "outputs": [],
   "source": [
    "df=df.drop(columns=['precos'])"
   ]
  },
  {
   "cell_type": "code",
   "execution_count": null,
   "metadata": {},
   "outputs": [],
   "source": [
    "df"
   ]
  },
  {
   "cell_type": "code",
   "execution_count": null,
   "metadata": {},
   "outputs": [],
   "source": [
    "import pandas as pd\n",
    "import os\n",
    "\n",
    "# Nome do arquivo (como string)\n",
    "nome_arquivo = 'dados_tratados' \n",
    "\n",
    "# Caminho completo da pasta onde o arquivo será salvo\n",
    "pasta_destino = r'C:\\Users\\User\\Documents\\TrabalhoFinal_AP-GustavoChiavarini\\ArquivosTratados'\n",
    "\n",
    "# Caminho completo para salvar o arquivo, incluindo o nome do arquivo\n",
    "caminho_arquivo = os.path.join(pasta_destino, f'{nome_arquivo}.csv')\n",
    "\n",
    "# Salva o DataFrame na pasta com o nome gerado\n",
    "df.to_csv(caminho_arquivo, index=False)\n",
    "\n",
    "print(f\"Arquivo salvo em: {caminho_arquivo}\")\n",
    "\n"
   ]
  },
  {
   "cell_type": "code",
   "execution_count": null,
   "metadata": {},
   "outputs": [],
   "source": [
    "df.to_csv('produtos_e_precos.csv', index=False)"
   ]
  },
  {
   "cell_type": "code",
   "execution_count": null,
   "metadata": {},
   "outputs": [],
   "source": [
    "print(df)\n"
   ]
  },
  {
   "cell_type": "code",
   "execution_count": null,
   "metadata": {},
   "outputs": [],
   "source": [
    "from sqlalchemy import create_engine \n",
    "engine = create_engine('sqlite:///banco.db', echo=True)"
   ]
  },
  {
   "cell_type": "code",
   "execution_count": null,
   "metadata": {},
   "outputs": [],
   "source": [
    "df.to_sql('dados', con=engine, if_exists='replace', index=False)  "
   ]
  },
  {
   "cell_type": "code",
   "execution_count": null,
   "metadata": {},
   "outputs": [],
   "source": [
    "\n",
    "df_lido = pd.read_sql('SELECT * FROM dados', con=engine)"
   ]
  }
 ],
 "metadata": {
  "kernelspec": {
   "display_name": "Python 3",
   "language": "python",
   "name": "python3"
  },
  "language_info": {
   "codemirror_mode": {
    "name": "ipython",
    "version": 3
   },
   "file_extension": ".py",
   "mimetype": "text/x-python",
   "name": "python",
   "nbconvert_exporter": "python",
   "pygments_lexer": "ipython3",
   "version": "3.12.7"
  }
 },
 "nbformat": 4,
 "nbformat_minor": 2
}
